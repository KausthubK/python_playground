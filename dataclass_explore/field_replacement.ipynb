{
 "cells": [
  {
   "cell_type": "code",
   "execution_count": 1,
   "metadata": {},
   "outputs": [],
   "source": [
    "import dataclasses"
   ]
  },
  {
   "cell_type": "code",
   "execution_count": 2,
   "metadata": {},
   "outputs": [],
   "source": [
    "@dataclasses.dataclass\n",
    "class Person:\n",
    "    id: int\n",
    "    name: str\n",
    "    salary: float"
   ]
  },
  {
   "cell_type": "code",
   "execution_count": 3,
   "metadata": {},
   "outputs": [
    {
     "data": {
      "text/plain": [
       "[Person(id=1, name='Alice', salary=50000.0),\n",
       " Person(id=2, name='Bob', salary=60000.0),\n",
       " Person(id=3, name='Charlie', salary=70000.0),\n",
       " Person(id=4, name='David', salary=80000.0),\n",
       " Person(id=5, name='Eve', salary=90000.0)]"
      ]
     },
     "execution_count": 3,
     "metadata": {},
     "output_type": "execute_result"
    }
   ],
   "source": [
    "people = [\n",
    "    Person(1, \"Alice\", 50000.0),\n",
    "    Person(2, \"Bob\", 60000.0),\n",
    "    Person(3, \"Charlie\", 70000.0),\n",
    "    Person(4, \"David\", 80000.0),\n",
    "    Person(5, \"Eve\", 90000.0),\n",
    "]\n",
    "people"
   ]
  },
  {
   "cell_type": "code",
   "execution_count": 4,
   "metadata": {},
   "outputs": [
    {
     "data": {
      "text/plain": [
       "[Person(id=1, name='', salary=50000.0),\n",
       " Person(id=2, name='', salary=60000.0),\n",
       " Person(id=3, name='', salary=70000.0),\n",
       " Person(id=4, name='', salary=80000.0),\n",
       " Person(id=5, name='', salary=90000.0)]"
      ]
     },
     "execution_count": 4,
     "metadata": {},
     "output_type": "execute_result"
    }
   ],
   "source": [
    "deanonymized = [dataclasses.replace(p, name=\"\") for p in people]\n",
    "deanonymized"
   ]
  },
  {
   "cell_type": "code",
   "execution_count": 5,
   "metadata": {},
   "outputs": [
    {
     "data": {
      "text/plain": [
       "[Person(id=1, name='Alice', salary=50000.0),\n",
       " Person(id=2, name='Bob', salary=60000.0),\n",
       " Person(id=3, name='Charlie', salary=70000.0),\n",
       " Person(id=4, name='David', salary=80000.0),\n",
       " Person(id=5, name='Eve', salary=90000.0)]"
      ]
     },
     "execution_count": 5,
     "metadata": {},
     "output_type": "execute_result"
    }
   ],
   "source": [
    "people"
   ]
  },
  {
   "cell_type": "code",
   "execution_count": 6,
   "metadata": {},
   "outputs": [
    {
     "data": {
      "text/plain": [
       "Person(id=1, name='Alice', salary=50000.0)"
      ]
     },
     "execution_count": 6,
     "metadata": {},
     "output_type": "execute_result"
    }
   ],
   "source": [
    "p0 = people[0]\n",
    "p0"
   ]
  },
  {
   "cell_type": "code",
   "execution_count": 7,
   "metadata": {},
   "outputs": [
    {
     "data": {
      "text/plain": [
       "Person(id=1, name='', salary=50000.0)"
      ]
     },
     "execution_count": 7,
     "metadata": {},
     "output_type": "execute_result"
    }
   ],
   "source": [
    "dataclasses.replace(p0, name=\"\")"
   ]
  },
  {
   "cell_type": "code",
   "execution_count": null,
   "metadata": {},
   "outputs": [],
   "source": []
  }
 ],
 "metadata": {
  "kernelspec": {
   "display_name": "base",
   "language": "python",
   "name": "python3"
  },
  "language_info": {
   "codemirror_mode": {
    "name": "ipython",
    "version": 3
   },
   "file_extension": ".py",
   "mimetype": "text/x-python",
   "name": "python",
   "nbconvert_exporter": "python",
   "pygments_lexer": "ipython3",
   "version": "3.10.6"
  }
 },
 "nbformat": 4,
 "nbformat_minor": 2
}
