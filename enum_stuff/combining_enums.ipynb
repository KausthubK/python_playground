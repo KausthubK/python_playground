{
 "cells": [
  {
   "cell_type": "code",
   "execution_count": 1,
   "id": "4bb5a0bb",
   "metadata": {},
   "outputs": [],
   "source": [
    "from enum import Enum, unique\n",
    "from itertools import chain\n",
    "\n",
    "@unique\n",
    "class LetterToPhonetic(str, Enum):\n",
    "    A = \"alpha\"\n",
    "    B = \"bravo\"\n",
    "    C = \"charlie\"\n",
    "    D = \"delta\"\n",
    "\n",
    "@unique\n",
    "class WordToPhonetic(str, Enum):\n",
    "    ALPHA = \"alpha\"\n",
    "    BRAVO = \"bravo\"\n",
    "    CHARLIE = \"charlie\"\n",
    "    DELTA = \"delta\"\n",
    "\n",
    "class PhoneticAlphabet(str, Enum):\n",
    "    \"\"\" doc string \"\"\"\n",
    "    _ignore_ = 'member cls'\n",
    "    cls = vars()\n",
    "    for member in chain(list(LetterToPhonetic), list(WordToPhonetic)):\n",
    "        cls[member.name] = member.value"
   ]
  },
  {
   "cell_type": "code",
   "execution_count": 2,
   "id": "471fffb3",
   "metadata": {},
   "outputs": [
    {
     "data": {
      "text/plain": [
       "(<PhoneticAlphabet.A: 'alpha'>, <PhoneticAlphabet.A: 'alpha'>)"
      ]
     },
     "execution_count": 2,
     "metadata": {},
     "output_type": "execute_result"
    }
   ],
   "source": [
    "PhoneticAlphabet.A, PhoneticAlphabet.ALPHA"
   ]
  },
  {
   "cell_type": "code",
   "execution_count": null,
   "id": "0f90ab39",
   "metadata": {},
   "outputs": [],
   "source": []
  }
 ],
 "metadata": {
  "kernelspec": {
   "display_name": "base",
   "language": "python",
   "name": "python3"
  },
  "language_info": {
   "codemirror_mode": {
    "name": "ipython",
    "version": 3
   },
   "file_extension": ".py",
   "mimetype": "text/x-python",
   "name": "python",
   "nbconvert_exporter": "python",
   "pygments_lexer": "ipython3",
   "version": "3.10.6"
  }
 },
 "nbformat": 4,
 "nbformat_minor": 5
}
