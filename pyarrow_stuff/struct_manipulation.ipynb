{
 "cells": [
  {
   "cell_type": "code",
   "execution_count": 1,
   "id": "11cef8ee",
   "metadata": {},
   "outputs": [],
   "source": [
    "import pyarrow as pa"
   ]
  },
  {
   "cell_type": "code",
   "execution_count": 2,
   "id": "e905e961",
   "metadata": {},
   "outputs": [],
   "source": [
    "my_struct = pa.struct([('x', pa.int64()), ('y', pa.bool_()), ('z', pa.float64())])"
   ]
  },
  {
   "cell_type": "code",
   "execution_count": 3,
   "id": "c52f22ae",
   "metadata": {},
   "outputs": [],
   "source": [
    "struct_array = pa.array([\n",
    "    {'x': 1, 'y': True, \"z\": 1.0},\n",
    "    {'x': 2, 'y': False, \"z\": 2.0},\n",
    "    {'x': 3, 'y': True, \"z\": 3.0}\n",
    "], type=my_struct)"
   ]
  },
  {
   "cell_type": "code",
   "execution_count": 4,
   "id": "3feea353",
   "metadata": {},
   "outputs": [
    {
     "data": {
      "text/plain": [
       "<pyarrow.Int64Scalar: 1>"
      ]
     },
     "execution_count": 4,
     "metadata": {},
     "output_type": "execute_result"
    }
   ],
   "source": [
    "struct_array[0][\"x\"]"
   ]
  },
  {
   "cell_type": "code",
   "execution_count": 6,
   "id": "a768545f",
   "metadata": {},
   "outputs": [
    {
     "data": {
      "text/plain": [
       "{'x': <pyarrow.Int64Scalar: 1>,\n",
       " 'y': <pyarrow.BooleanScalar: True>,\n",
       " 'z': <pyarrow.DoubleScalar: 1.0>}"
      ]
     },
     "execution_count": 6,
     "metadata": {},
     "output_type": "execute_result"
    }
   ],
   "source": [
    "# this doesn't quite do what you might expect because it returns a pyarrow type object for the values\n",
    "dict(struct_array[0])"
   ]
  },
  {
   "cell_type": "code",
   "execution_count": 7,
   "id": "e5c61402",
   "metadata": {},
   "outputs": [
    {
     "data": {
      "text/plain": [
       "{'x': 1, 'y': True, 'z': 1.0}"
      ]
     },
     "execution_count": 7,
     "metadata": {},
     "output_type": "execute_result"
    }
   ],
   "source": [
    "# you COULD do this manually...\n",
    "d = {\n",
    "    k: v.as_py() for k, v in struct_array[0].items()\n",
    "}\n",
    "d"
   ]
  },
  {
   "cell_type": "code",
   "execution_count": 8,
   "id": "76d7953e",
   "metadata": {},
   "outputs": [
    {
     "data": {
      "text/plain": [
       "{'x': 1, 'y': True, 'z': 1.0}"
      ]
     },
     "execution_count": 8,
     "metadata": {},
     "output_type": "execute_result"
    }
   ],
   "source": [
    "# or use this\n",
    "struct_array[0].as_py()"
   ]
  },
  {
   "cell_type": "code",
   "execution_count": 9,
   "id": "f37788d8",
   "metadata": {},
   "outputs": [
    {
     "data": {
      "text/plain": [
       "[{'x': 1, 'y': True, 'z': 1.0},\n",
       " {'x': 2, 'y': False, 'z': 2.0},\n",
       " {'x': 3, 'y': True, 'z': 3.0}]"
      ]
     },
     "execution_count": 9,
     "metadata": {},
     "output_type": "execute_result"
    }
   ],
   "source": [
    "# Convert pa.struct array to a list of dictionaries\n",
    "list_of_dicts = struct_array.to_pylist()\n",
    "list_of_dicts"
   ]
  },
  {
   "cell_type": "code",
   "execution_count": 10,
   "id": "a44d3763",
   "metadata": {},
   "outputs": [
    {
     "data": {
      "text/plain": [
       "{'x': 1, 'y': True, 'z': 1.0}"
      ]
     },
     "execution_count": 10,
     "metadata": {},
     "output_type": "execute_result"
    }
   ],
   "source": [
    "single_struct = list_of_dicts[0]\n",
    "single_struct"
   ]
  },
  {
   "cell_type": "code",
   "execution_count": null,
   "id": "2d5f9f63",
   "metadata": {},
   "outputs": [],
   "source": []
  }
 ],
 "metadata": {
  "kernelspec": {
   "display_name": ".venv",
   "language": "python",
   "name": "python3"
  },
  "language_info": {
   "codemirror_mode": {
    "name": "ipython",
    "version": 3
   },
   "file_extension": ".py",
   "mimetype": "text/x-python",
   "name": "python",
   "nbconvert_exporter": "python",
   "pygments_lexer": "ipython3",
   "version": "3.10.12"
  }
 },
 "nbformat": 4,
 "nbformat_minor": 5
}
